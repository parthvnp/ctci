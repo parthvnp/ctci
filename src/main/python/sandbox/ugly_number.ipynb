{
 "cells": [
  {
   "cell_type": "code",
   "execution_count": 1,
   "id": "2f517177-a827-4339-a383-9dc3e278d430",
   "metadata": {},
   "outputs": [],
   "source": [
    "class Solution:\n",
    "    ...:     def nthUglyNumber(self, n: int) -> int:\n",
    "    ...:        counter = 0\n",
    "    ...:        result = 0\n",
    "    ...:        i = 0\n",
    "    ...:        l = []\n",
    "    ...:        while counter <= n:\n",
    "    ...:            if(i % 2 == 0 or i % 3 == 0 or i % 5 == 0):\n",
    "    ...:                counter += 1\n",
    "    ...:                result = i\n",
    "    ...:                l.append(i)\n",
    "    ...:            i += 1\n",
    "    ...:        print(l)\n",
    "    ...:        return result\n"
   ]
  },
  {
   "cell_type": "code",
   "execution_count": 34,
   "id": "e9630a4c-f589-4b2a-aeb0-5b98a8efab6b",
   "metadata": {},
   "outputs": [
    {
     "data": {
      "text/plain": [
       "{1,\n",
       " 2,\n",
       " 3,\n",
       " 5,\n",
       " 6,\n",
       " 9,\n",
       " 10,\n",
       " 12,\n",
       " 15,\n",
       " 20,\n",
       " 22,\n",
       " 24,\n",
       " 25,\n",
       " 26,\n",
       " 27,\n",
       " 30,\n",
       " 60,\n",
       " 90,\n",
       " 120,\n",
       " 150,\n",
       " 180,\n",
       " 210,\n",
       " 240,\n",
       " 270,\n",
       " 300,\n",
       " 330,\n",
       " 360,\n",
       " 390,\n",
       " 420,\n",
       " 450}"
      ]
     },
     "execution_count": 34,
     "metadata": {},
     "output_type": "execute_result"
    }
   ],
   "source": [
    "class Solution:\n",
    "    def nthUglyNumber(self, n: int) -> int:\n",
    "        t = set()\n",
    "        i = [2,3,5]\n",
    "        l = [set(), set(), set()]\n",
    "        c = 0\n",
    "        j = 1\n",
    "        t.add(1)\n",
    "        while len(t) < n:\n",
    "            if j > 30:\n",
    "                if j % 30 == 0: t.add(j)\n",
    "            elif j % i[c % 3] == 0: \n",
    "                l[c % 3].add(j)\n",
    "                c += 1\n",
    "                t.add(j)\n",
    "            j += 1\n",
    "        return t\n",
    "    \n",
    "    def plist(self, n, p, s):\n",
    "        for i in range(1, n + 1):\n",
    "            if i % p  == 0: s.add(i)\n",
    "s = Solution()\n",
    "s.nthUglyNumber(30)"
   ]
  },
  {
   "cell_type": "code",
   "execution_count": 26,
   "id": "cbfcc490-6932-4ead-a30d-5c93db6c3e8e",
   "metadata": {},
   "outputs": [],
   "source": [
    "t = set()\n",
    "s.plist(10, 2, t)"
   ]
  },
  {
   "cell_type": "code",
   "execution_count": 12,
   "id": "e9265ea7-4470-48b1-8bc1-437077ce0841",
   "metadata": {},
   "outputs": [
    {
     "data": {
      "text/plain": [
       "{2, 4, 6, 8, 10}"
      ]
     },
     "execution_count": 12,
     "metadata": {},
     "output_type": "execute_result"
    }
   ],
   "source": [
    "t"
   ]
  },
  {
   "cell_type": "code",
   "execution_count": 30,
   "id": "a96c9eee-6dab-4577-b98d-27e228caaee5",
   "metadata": {},
   "outputs": [
    {
     "data": {
      "text/plain": [
       "30"
      ]
     },
     "execution_count": 30,
     "metadata": {},
     "output_type": "execute_result"
    }
   ],
   "source": [
    "2 * 3 * 5"
   ]
  },
  {
   "cell_type": "code",
   "execution_count": 24,
   "id": "61555732-367e-4c72-93ca-00bf37b9b377",
   "metadata": {},
   "outputs": [],
   "source": [
    "t = set()\n",
    "i = [2,3,5]\n",
    "c = 0\n",
    "j = 1\n",
    "t.add(1)\n",
    "while len(t) < 10:\n",
    "    if j % 2 == 0: \n",
    "        c += 1\n",
    "        t.add(j)\n",
    "    j += 1"
   ]
  },
  {
   "cell_type": "code",
   "execution_count": 50,
   "id": "f0bf2d6d-c2c3-4e41-83ff-58934587d259",
   "metadata": {},
   "outputs": [],
   "source": []
  },
  {
   "cell_type": "code",
   "execution_count": 55,
   "id": "709efa1e-b737-47b8-bbd8-0b150048f13b",
   "metadata": {},
   "outputs": [],
   "source": [
    "start = [1, 2, 3, 4, 5, 6, 8, 9, 10, 12, 15, 18]\n",
    "for i in range(2, 3):\n",
    "    s = []\n",
    "    for j in start:\n",
    "        s.append(j * i)\n",
    "    start.extend(s)\n",
    "    "
   ]
  },
  {
   "cell_type": "code",
   "execution_count": 56,
   "id": "38987d98-aa7e-4dd1-a981-f37aa7b81bf3",
   "metadata": {},
   "outputs": [
    {
     "data": {
      "text/plain": [
       "[1,\n",
       " 2,\n",
       " 3,\n",
       " 4,\n",
       " 5,\n",
       " 6,\n",
       " 8,\n",
       " 9,\n",
       " 10,\n",
       " 12,\n",
       " 15,\n",
       " 18,\n",
       " 2,\n",
       " 4,\n",
       " 6,\n",
       " 8,\n",
       " 10,\n",
       " 12,\n",
       " 16,\n",
       " 18,\n",
       " 20,\n",
       " 24,\n",
       " 30,\n",
       " 36]"
      ]
     },
     "execution_count": 56,
     "metadata": {},
     "output_type": "execute_result"
    }
   ],
   "source": [
    "start"
   ]
  },
  {
   "cell_type": "code",
   "execution_count": null,
   "id": "46c52fd6-cbd6-4869-9020-f3d22af8fac5",
   "metadata": {},
   "outputs": [],
   "source": []
  }
 ],
 "metadata": {
  "kernelspec": {
   "display_name": "Python 3 (ipykernel)",
   "language": "python",
   "name": "python3"
  },
  "language_info": {
   "codemirror_mode": {
    "name": "ipython",
    "version": 3
   },
   "file_extension": ".py",
   "mimetype": "text/x-python",
   "name": "python",
   "nbconvert_exporter": "python",
   "pygments_lexer": "ipython3",
   "version": "3.10.6"
  }
 },
 "nbformat": 4,
 "nbformat_minor": 5
}
