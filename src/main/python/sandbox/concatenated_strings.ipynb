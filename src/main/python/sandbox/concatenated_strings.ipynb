{
 "cells": [
  {
   "cell_type": "code",
   "execution_count": 45,
   "id": "af08523e-7a70-4725-bf2a-1014eca549fd",
   "metadata": {},
   "outputs": [],
   "source": [
    "s = \"barfoofoobarthefoobarman\"\n",
    "words = [\"foo\",\"bar\", \"the\"]"
   ]
  },
  {
   "cell_type": "code",
   "execution_count": 52,
   "id": "c1f3db81-ddf8-47bf-a92a-5ebd5c1b7e4a",
   "metadata": {},
   "outputs": [
    {
     "name": "stdout",
     "output_type": "stream",
     "text": [
      "[]\n",
      "[[0, 3]]\n",
      "[[0, 6]]\n",
      "[[0, 9]]\n",
      "[[0, 9], [9, 12]]\n",
      "[[0, 9], [9, 15]]\n",
      "[[0, 9], [9, 18]]\n"
     ]
    },
    {
     "data": {
      "text/plain": [
       "[[0, 9], [9, 18], [18, 21]]"
      ]
     },
     "execution_count": 52,
     "metadata": {},
     "output_type": "execute_result"
    }
   ],
   "source": [
    "def find_indices(word, s):\n",
    "    indices = []\n",
    "    start = 0\n",
    "    while(s.find(word, start) != -1):\n",
    "        i = s.find(word, start)\n",
    "        indices.append([i, len(word)+i])\n",
    "        start += i + len(word)\n",
    "    return indices  \n",
    "\n",
    "def parition(indices):\n",
    "    \n",
    "    pass\n",
    "\n",
    "all_indices = []\n",
    "for w in words:\n",
    "    all_indices.extend(find_indices(w,s))\n",
    "\n",
    "combined_length = sum([len(w) for w in words])\n",
    "def merge(intervals):\n",
    "    intervals.sort(key=lambda x: x[0])\n",
    "    ans = []\n",
    "    for i in intervals:\n",
    "        print(ans)\n",
    "        if (not ans or ans[-1][1] - ans[-1][0] == combined_length or ans[-1][1] < i[0]): ans.append(i)\n",
    "        else: ans[-1][1] = max(ans[-1][1], i[1])\n",
    "    return ans\n",
    "merge(all_indices)"
   ]
  },
  {
   "cell_type": "code",
   "execution_count": 55,
   "id": "51a5f4a9-a515-4dea-93a7-0191d0a370bd",
   "metadata": {},
   "outputs": [
    {
     "data": {
      "text/plain": [
       "[[3, 6], [6, 9], [15, 18]]"
      ]
     },
     "execution_count": 55,
     "metadata": {},
     "output_type": "execute_result"
    }
   ],
   "source": [
    "find_indices(words[0], s)"
   ]
  },
  {
   "cell_type": "code",
   "execution_count": 56,
   "id": "a09ea42f-ad7f-45c0-8288-546f0e39041c",
   "metadata": {},
   "outputs": [
    {
     "data": {
      "text/plain": [
       "[[0, 3], [9, 12], [18, 21]]"
      ]
     },
     "execution_count": 56,
     "metadata": {},
     "output_type": "execute_result"
    }
   ],
   "source": [
    "find_indices(words[1], s)"
   ]
  },
  {
   "cell_type": "code",
   "execution_count": 57,
   "id": "4ed2efbc-7819-46fd-999a-d6af054e6765",
   "metadata": {},
   "outputs": [
    {
     "data": {
      "text/plain": [
       "[[12, 15]]"
      ]
     },
     "execution_count": 57,
     "metadata": {},
     "output_type": "execute_result"
    }
   ],
   "source": [
    "find_indices(words[2], s)"
   ]
  },
  {
   "cell_type": "code",
   "execution_count": 58,
   "id": "7e3ff811-5cff-43cc-aa2b-c8eebbf144b2",
   "metadata": {},
   "outputs": [],
   "source": [
    "all_indices = []\n",
    "for w in words:\n",
    "    all_indices.extend(find_indices(w,s))"
   ]
  },
  {
   "cell_type": "code",
   "execution_count": 60,
   "id": "d367d2c1-92b7-4e96-b329-f06682d38e7d",
   "metadata": {},
   "outputs": [
    {
     "data": {
      "text/plain": [
       "[[0, 3], [3, 6], [6, 9], [9, 12], [12, 15], [15, 18], [18, 21]]"
      ]
     },
     "execution_count": 60,
     "metadata": {},
     "output_type": "execute_result"
    }
   ],
   "source": [
    "all_indices.sort()\n",
    "all_indices"
   ]
  },
  {
   "cell_type": "code",
   "execution_count": 120,
   "id": "9e9bd6e8-0bbe-45d0-a00e-541603ef798c",
   "metadata": {},
   "outputs": [],
   "source": [
    "s = \"A\" * 11"
   ]
  },
  {
   "cell_type": "code",
   "execution_count": 123,
   "id": "38622ca6-4482-43fa-ab36-49bcdcef1a31",
   "metadata": {},
   "outputs": [],
   "source": [
    "from collections import Counter, deque\n",
    "low, high = -1, 0\n",
    "c = Counter()\n",
    "d = deque()\n",
    "while high < len(s):\n",
    "    if(len(d) == 10):\n",
    "        c[\"\".join(d)] += 1\n",
    "        low += 1\n",
    "        d.popleft()\n",
    "    d.append(s[high])\n",
    "    high += 1\n",
    "c[\"\".join(d)] += 1"
   ]
  },
  {
   "cell_type": "code",
   "execution_count": 124,
   "id": "a053ab19-a2da-48b0-abd3-e71e3d6c6f6f",
   "metadata": {},
   "outputs": [
    {
     "data": {
      "text/plain": [
       "['AAAAAAAAAA']"
      ]
     },
     "execution_count": 124,
     "metadata": {},
     "output_type": "execute_result"
    }
   ],
   "source": [
    "[i[0] for i in (filter(lambda x: x[1] > 1, c.items()))]"
   ]
  },
  {
   "cell_type": "code",
   "execution_count": 296,
   "id": "6b2dfa6c-51a6-47b1-bfac-510a873f9a80",
   "metadata": {},
   "outputs": [],
   "source": [
    "# Definition for singly-linked list.\n",
    "from typing import *\n",
    "class ListNode:\n",
    "    def __init__(self, val=0, next=None):\n",
    "        self.val = val\n",
    "        self.next = next\n",
    "# Definition for a binary tree node.\n",
    "class TreeNode:\n",
    "    def __init__(self, val=0, left=None, right=None):\n",
    "        self.val = val\n",
    "        self.left = left\n",
    "        self.right = right\n",
    "    \n",
    "    def __repr__(self):\n",
    "        if self.left is None or self.right is None:\n",
    "            return str(self.val)\n",
    "        return str(self.val) + f\" {repr(self.left)} \" + f\" {repr(self.right)} \"\n",
    "    \n",
    "    def show(self, node, sep=\"\"):\n",
    "        if(node != None):\n",
    "            print(sep + str(node.val))\n",
    "            sep += \"\\t\"\n",
    "            self.show(node.left, sep)\n",
    "            self.show(node.right, sep)\n",
    "\n",
    "class Solution:\n",
    "    def sortedListToBST(self, head: Optional[ListNode]) -> Optional[TreeNode]:\n",
    "        if (head == None): return None\n",
    "        if (head.next == None): return TreeNode(head.val)\n",
    "        fast, slow, prev = head, head, head\n",
    "        while(fast != None and fast.next != None):\n",
    "            fast = fast.next.next;\n",
    "            prev = slow\n",
    "            slow = slow.next;\n",
    "        prev.next = None\n",
    "        root = TreeNode(slow.val)\n",
    "        root.left = self.sortedListToBST(head)\n",
    "        root.right = self.sortedListToBST(slow.next)\n",
    "        return root"
   ]
  },
  {
   "cell_type": "code",
   "execution_count": 290,
   "id": "0715abd6-e201-402d-a9d2-8fa178a3f51f",
   "metadata": {},
   "outputs": [],
   "source": [
    "s = Solution()\n",
    "l = ListNode(-10, ListNode(3, ListNode(0, ListNode(5, ListNode(9)))))\n",
    "i = s.sortedListToBST(l)"
   ]
  },
  {
   "cell_type": "code",
   "execution_count": 291,
   "id": "01f2a3e7-018e-4a7b-b440-9231be81cc95",
   "metadata": {},
   "outputs": [
    {
     "name": "stdout",
     "output_type": "stream",
     "text": [
      "0\n",
      "\t-10\n",
      "\t5\n"
     ]
    }
   ],
   "source": [
    "i.show(i, \"\")"
   ]
  },
  {
   "cell_type": "code",
   "execution_count": 292,
   "id": "279c0554-0579-4971-b0de-cbb12ec76398",
   "metadata": {},
   "outputs": [],
   "source": [
    "left,m,right = s.split(l)"
   ]
  },
  {
   "cell_type": "code",
   "execution_count": 293,
   "id": "6cd9719a-8623-426b-908c-0c406e506b25",
   "metadata": {},
   "outputs": [
    {
     "name": "stdout",
     "output_type": "stream",
     "text": [
      "-10\n"
     ]
    }
   ],
   "source": [
    "s.pr(left)"
   ]
  },
  {
   "cell_type": "code",
   "execution_count": 294,
   "id": "48c2b730-7687-46bc-8c1b-98c64e6666f1",
   "metadata": {},
   "outputs": [],
   "source": [
    "s.pr(right)"
   ]
  },
  {
   "cell_type": "code",
   "execution_count": 295,
   "id": "4098178e-1a14-410a-a9d8-c7da77661113",
   "metadata": {},
   "outputs": [
    {
     "name": "stdout",
     "output_type": "stream",
     "text": [
      "None\n"
     ]
    }
   ],
   "source": [
    "print(m)"
   ]
  },
  {
   "cell_type": "code",
   "execution_count": null,
   "id": "f52e6d4e-3b4d-41aa-9a9c-725b5e715474",
   "metadata": {},
   "outputs": [],
   "source": []
  }
 ],
 "metadata": {
  "kernelspec": {
   "display_name": "playground-6vEy-XC0",
   "language": "python",
   "name": "playground-6vey-xc0"
  },
  "language_info": {
   "codemirror_mode": {
    "name": "ipython",
    "version": 3
   },
   "file_extension": ".py",
   "mimetype": "text/x-python",
   "name": "python",
   "nbconvert_exporter": "python",
   "pygments_lexer": "ipython3",
   "version": "3.10.6"
  }
 },
 "nbformat": 4,
 "nbformat_minor": 5
}
