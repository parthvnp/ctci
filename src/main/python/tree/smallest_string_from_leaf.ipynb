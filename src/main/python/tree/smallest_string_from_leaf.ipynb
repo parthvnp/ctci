{
 "cells": [
  {
   "cell_type": "code",
   "execution_count": 2,
   "id": "e0c9f7cc-1b09-494a-85ec-a8e6e1bd8546",
   "metadata": {},
   "outputs": [],
   "source": [
    "from typing import *"
   ]
  },
  {
   "cell_type": "code",
   "execution_count": 63,
   "id": "2d758f5f-b2ab-4ac9-9d8b-fde904018a15",
   "metadata": {},
   "outputs": [
    {
     "name": "stdout",
     "output_type": "stream",
     "text": [
      "[0, 1]\n",
      "[0, 2]\n"
     ]
    }
   ],
   "source": [
    "class TreeNode:\n",
    "    def __init__(self, val=0, left=None, right=None):\n",
    "        self.val = val\n",
    "        self.left = left\n",
    "        self.right = right\n",
    "\n",
    "class Solution:\n",
    "    def smallestFromLeaf(self, root: Optional[TreeNode]) -> str:\n",
    "        a = \"\"\n",
    "        curr =  []\n",
    "        def dfs(root):\n",
    "            nonlocal a, curr\n",
    "            if(root == None): return\n",
    "            curr.append(root.val)\n",
    "            if(root.left == None and root.right == None): \n",
    "                print(curr)\n",
    "                if not a: a = \"\".join([chr(i+97) for i in curr[::-1]])\n",
    "                a = min(a, \"\".join([chr(i+97) for i in curr[::-1]]))\n",
    "            dfs(root.left)\n",
    "            dfs(root.right)\n",
    "            curr.pop()\n",
    "        dfs(root)\n",
    "        return a       \n",
    "s = Solution()\n",
    "x = s.smallestFromLeaf(TreeNode(0, TreeNode(1), TreeNode(2)))"
   ]
  },
  {
   "cell_type": "code",
   "execution_count": 64,
   "id": "38c737d3-bff9-4e37-b8ee-b7ff848459f0",
   "metadata": {},
   "outputs": [
    {
     "data": {
      "text/plain": [
       "'ba'"
      ]
     },
     "execution_count": 64,
     "metadata": {},
     "output_type": "execute_result"
    }
   ],
   "source": [
    "x"
   ]
  },
  {
   "cell_type": "code",
   "execution_count": 51,
   "id": "a1dea81a-5607-488f-9239-5ef8aa56a162",
   "metadata": {},
   "outputs": [
    {
     "data": {
      "text/plain": [
       "'a'"
      ]
     },
     "execution_count": 51,
     "metadata": {},
     "output_type": "execute_result"
    }
   ],
   "source": [
    "i = 0\n",
    "chr(i + 97)"
   ]
  },
  {
   "cell_type": "code",
   "execution_count": 58,
   "id": "11ce2785-c31b-42bc-a00f-14a0a578c1ee",
   "metadata": {},
   "outputs": [
    {
     "data": {
      "text/plain": [
       "True"
      ]
     },
     "execution_count": 58,
     "metadata": {},
     "output_type": "execute_result"
    }
   ],
   "source": [
    "\"ab\" < \"ca\""
   ]
  },
  {
   "cell_type": "code",
   "execution_count": 62,
   "id": "898116aa-b57d-47f2-b41d-a81214b481e9",
   "metadata": {},
   "outputs": [
    {
     "data": {
      "text/plain": [
       "[2, 1]"
      ]
     },
     "execution_count": 62,
     "metadata": {},
     "output_type": "execute_result"
    }
   ],
   "source": [
    "[1,2][::-1]"
   ]
  },
  {
   "cell_type": "code",
   "execution_count": null,
   "id": "0b462ecb-39c8-4cf0-9389-add21094c93d",
   "metadata": {},
   "outputs": [],
   "source": []
  }
 ],
 "metadata": {
  "kernelspec": {
   "display_name": "Python 3 (ipykernel)",
   "language": "python",
   "name": "python3"
  },
  "language_info": {
   "codemirror_mode": {
    "name": "ipython",
    "version": 3
   },
   "file_extension": ".py",
   "mimetype": "text/x-python",
   "name": "python",
   "nbconvert_exporter": "python",
   "pygments_lexer": "ipython3",
   "version": "3.11.1"
  }
 },
 "nbformat": 4,
 "nbformat_minor": 5
}
