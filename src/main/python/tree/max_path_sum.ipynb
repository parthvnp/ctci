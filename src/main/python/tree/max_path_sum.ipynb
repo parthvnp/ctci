{
 "cells": [
  {
   "cell_type": "code",
   "execution_count": 2,
   "id": "9adc8ac7-8baf-40a9-affb-55292a491f19",
   "metadata": {},
   "outputs": [],
   "source": [
    "from typing import *"
   ]
  },
  {
   "cell_type": "code",
   "execution_count": 5,
   "id": "6d539235-fc4b-4348-9c89-e902affc6ba1",
   "metadata": {},
   "outputs": [],
   "source": [
    "class TreeNode:\n",
    "    def __init__(self, val=0, left=None, right=None):\n",
    "        self.val = val\n",
    "        self.left = left\n",
    "        self.right = right"
   ]
  },
  {
   "cell_type": "code",
   "execution_count": 70,
   "id": "7dbf41e3-44ab-4d3e-8c6d-f8319c535ad4",
   "metadata": {},
   "outputs": [],
   "source": [
    "class Solution:\n",
    "    def __init__(self):\n",
    "        self.max = - math.inf\n",
    "        self.min = 0\n",
    "    \n",
    "    def maxPathSum(self, root: Optional[TreeNode]) -> int:\n",
    "        if(root != None and root.left == None and root.right == None): return root.val\n",
    "        def maxPathSum(root):\n",
    "            if(root == None): return -math.inf\n",
    "            leftSum = maxPathSum(root.left)\n",
    "            rightSum = maxPathSum(root.right)\n",
    "            combined = leftSum + root.val + rightSum\n",
    "            return max(self.max, root.val, leftSum, rightSum, combined)\n",
    "        return maxPathSum(root)"
   ]
  },
  {
   "cell_type": "code",
   "execution_count": 72,
   "id": "50ceb826-3187-432e-8850-2a7f0ad6930c",
   "metadata": {},
   "outputs": [
    {
     "data": {
      "text/plain": [
       "2"
      ]
     },
     "execution_count": 72,
     "metadata": {},
     "output_type": "execute_result"
    }
   ],
   "source": [
    "s = Solution()\n",
    "# [-10,9,20,null,null,15,7]\n",
    "root = TreeNode(1, TreeNode(2), None)\n",
    "s.maxPathSum(root)"
   ]
  },
  {
   "cell_type": "code",
   "execution_count": null,
   "id": "57b27f4b-d20d-4f31-9835-b66fbec1f3c2",
   "metadata": {},
   "outputs": [],
   "source": []
  }
 ],
 "metadata": {
  "kernelspec": {
   "display_name": "Python 3 (ipykernel)",
   "language": "python",
   "name": "python3"
  },
  "language_info": {
   "codemirror_mode": {
    "name": "ipython",
    "version": 3
   },
   "file_extension": ".py",
   "mimetype": "text/x-python",
   "name": "python",
   "nbconvert_exporter": "python",
   "pygments_lexer": "ipython3",
   "version": "3.11.1"
  }
 },
 "nbformat": 4,
 "nbformat_minor": 5
}
